{
 "cells": [
  {
   "cell_type": "code",
   "execution_count": 2,
   "metadata": {},
   "outputs": [
    {
     "name": "stdout",
     "output_type": "stream",
     "text": [
      "Requirement already satisfied: base58 in c:\\users\\antoi\\anaconda3\\lib\\site-packages (2.1.0)\n"
     ]
    }
   ],
   "source": [
    "!pip install base58"
   ]
  },
  {
   "cell_type": "code",
   "execution_count": 25,
   "metadata": {},
   "outputs": [],
   "source": [
    "import binascii\n",
    "import hmac\n",
    "import hashlib\n",
    "import struct\n",
    "import ecdsa\n",
    "import base58\n",
    "import os, sys\n",
    "import unicodedata\n",
    "from ecdsa.curves import SECP256k1\n",
    "from ecdsa.ecdsa import int_to_string, string_to_int\n"
   ]
  },
  {
   "cell_type": "code",
   "execution_count": 26,
   "metadata": {},
   "outputs": [
    {
     "name": "stdout",
     "output_type": "stream",
     "text": [
      "\n",
      "Un entier aléatoire (seed):  204048516592372993657375166504414623270\n",
      "\n",
      "Seed en binaire :  10011001100000100101000010011000001000010000011110111001010111111100100100010010100000000111011101001001100001100011011000100110\n",
      "\n",
      "L'entropy :  998250982107b95fc912807749863626\n",
      "\n",
      "Encode :  b'\\x99\\x82P\\x98!\\x07\\xb9_\\xc9\\x12\\x80wI\\x866&'\n"
     ]
    }
   ],
   "source": [
    "### Créer un entier aléatoire pouvant servir\n",
    "#de seed à un wallet de façon sécurisée\n",
    "bits = 128\n",
    "E128=\"\"   # 128 bits\n",
    "Entier=0 \n",
    "Entropy=\"\"                # generateur de l'entier\n",
    "while len(E128) != bits:\n",
    "    sec=os.urandom(bits//8)  # 8 bits\n",
    "    Entier=int.from_bytes(sec,sys.byteorder)\n",
    "    E128=bin(Entier)[2:]\n",
    "\n",
    "for i in range(len(E128)//4):\n",
    "    value=E128[4*i:4*(i+1)]\n",
    "    Entropy+=hex(int(value,2))[2]\n",
    "\n",
    "print('\\nUn entier aléatoire (seed): ',Entier)\n",
    "print('\\nSeed en binaire : ',E128)\n",
    "print('\\nL\\'entropy : ',Entropy)\n",
    "\n",
    "encode = Entropy.strip()\n",
    "encode = binascii.unhexlify(Entropy)\n",
    "print('\\nEncode : ',encode)"
   ]
  },
  {
   "cell_type": "code",
   "execution_count": 27,
   "metadata": {},
   "outputs": [
    {
     "name": "stdout",
     "output_type": "stream",
     "text": [
      "\n",
      "Lot de 11 bits :  ['10011001100', '00010010100', '00100110000', '01000010000', '01111011100', '10101111111', '00100100010', '01010000000', '01110111010', '01001100001', '10001101100', '01001100001']\n"
     ]
    }
   ],
   "source": [
    "#####Représenter cette seed en binaire et le\n",
    "####découper en lot de 11 bits \n",
    "SHA256 = hashlib.sha256(encode).hexdigest()\n",
    "E132 =  E128+bin(int(SHA256,16))[2:].zfill(256)[: bits//32]\n",
    "\n",
    "### découper en lot de 11 bits\n",
    "lot =[]\n",
    "for i in range(len(E132)//11):\n",
    "    value = E132[11*i:11*(i+1)]\n",
    "    lot.append(value)\n",
    "\n",
    "print('\\nLot de 11 bits : ',lot)\n"
   ]
  },
  {
   "cell_type": "code",
   "execution_count": 28,
   "metadata": {},
   "outputs": [
    {
     "name": "stdout",
     "output_type": "stream",
     "text": [
      "\n",
      "Afficher la seed :  ['office', 'barely', 'champion', 'dragon', 'knee', 'quiz', 'cattle', 'exotic', 'jar', 'equip', 'mirror', 'equip']\n",
      "\n",
      "Afficher la seed :  office barely champion dragon knee quiz cattle exotic jar equip mirror equip\n"
     ]
    }
   ],
   "source": [
    "### Attribuer\n",
    "## à chaque lot un mot selon la\n",
    "## liste BIP 39 et afficher la seed en\n",
    "## mnémonique (2 pts)\n",
    "\n",
    "with open(\"wordlist/english.txt\", \"r\") as f:\n",
    "         wordlist = [w.strip() for w in f.readlines()]\n",
    "\n",
    "list_seed= []\n",
    "for i in lot:\n",
    "    indx = int(i,2)\n",
    "    list_seed.append(wordlist[indx])\n",
    "\n",
    "print('\\nAfficher la seed : ',list_seed) \n",
    "\n",
    "seed=\" \".join(list_seed)\n",
    "print('\\nAfficher la seed : ',seed)\n",
    "\n",
    "with open('seed.txt',\"w\") as f:\n",
    "    f.write(seed)"
   ]
  },
  {
   "cell_type": "code",
   "execution_count": 29,
   "metadata": {},
   "outputs": [
    {
     "name": "stdout",
     "output_type": "stream",
     "text": [
      "\n",
      "Le seed importé :  office barely champion dragon knee quiz cattle exotic jar equip mirror equip\n"
     ]
    }
   ],
   "source": [
    "#Permettre l’import d’une seed\n",
    "#mnémonique\n",
    "import_seed=\"\"\n",
    "with open('seed.txt',\"r\") as f:\n",
    "    import_seed=f.readline()\n",
    "\n",
    "print(\"\\nLe seed importé : \",import_seed)\n"
   ]
  },
  {
   "cell_type": "code",
   "execution_count": 30,
   "metadata": {},
   "outputs": [
    {
     "name": "stdout",
     "output_type": "stream",
     "text": [
      "\n",
      "BIP39 Seed :  df7bcd73885db87c5cc56c47e17f5c8375685459353a5fece40e7f59fe5be9187e44440a652b421eeb0db7a57b049dbfa4fe1837a18e771ac5bf514bbdfd5504\n"
     ]
    }
   ],
   "source": [
    "normalized_mnemonic = unicodedata.normalize(\"NFKD\", import_seed)\n",
    "password = \"\"\n",
    "normalized_passphrase = unicodedata.normalize(\"NFKD\", password)\n",
    "passphrase = \"mnemonic\" + normalized_passphrase\n",
    "mnemonic = normalized_mnemonic.encode(\"utf-8\")\n",
    "passphrase = passphrase.encode(\"utf-8\")\n",
    "bin_seed = hashlib.pbkdf2_hmac(\"sha512\", mnemonic, passphrase, 2048)\n",
    "\n",
    "BIP39_seed=binascii.hexlify(bin_seed[:64]).decode()\n",
    "print(\"\\nBIP39 Seed : \",BIP39_seed)"
   ]
  },
  {
   "cell_type": "raw",
   "metadata": {},
   "source": [
    "## Extraire la master private key et le chain\n",
    "## code \n",
    "##Extraire la master public key\n"
   ]
  },
  {
   "cell_type": "code",
   "execution_count": 31,
   "metadata": {},
   "outputs": [],
   "source": [
    "#Hmac\n",
    "#BIP39_seed\n",
    "seed = binascii.unhexlify(BIP39_seed)\n",
    "#seed = binascii.unhexlify(\"8178779bee02dd20eca25924352fa7994f41023c2036c0a40b4715ed8405c95c0c03574a0b8eed54b1554e3bde0e8e856671ed30c102d4f8b463f87803824500\") #METTRE ICI LE SEED EN HEX\n",
    "#HMAC512= hashlib.pbkdf2_hmac(\"sha512\", seed, b\"Bitcoin seed\", 2048)  # FONCTION HMAC-SHA512\n",
    "HMAC512 = hmac.new(b\"Bitcoin seed\", seed, hashlib.sha512).digest()\n"
   ]
  },
  {
   "cell_type": "code",
   "execution_count": 32,
   "metadata": {},
   "outputs": [],
   "source": [
    "def diffusion(HMAC512,depth,fingerp,index):\n",
    "    #EXTRATION\n",
    "    Hmac_l, Hmac_r= HMAC512[:32], HMAC512[32:]\n",
    "    Master_private_key = Hmac_l \n",
    "    Master_chain_code = Hmac_r\n",
    "    xprv = binascii.unhexlify(\"0488ade4\") # FORME BINAIRE xprv\n",
    "    xpub = binascii.unhexlify(\"0488b21e\") #FORME BINAIRE xpub\n",
    "    ##\n",
    "    depth = base58.b58decode(str(depth))        # DERIVATION\n",
    "    fingerp= base58.b58decode(str(fingerp))       #b\"\\0\\0\\0\\0\"   \n",
    "    child = struct.pack('>L', index)   # CHILD\n",
    "    ## TRANSFORMATION DE LA CLE PRIVEE\n",
    "    k_priv = ecdsa.SigningKey.from_string(Master_private_key, curve=SECP256k1)\n",
    "    K_priv = k_priv.get_verifying_key()\n",
    "    #CONVERTION\n",
    "    data_priv = depth + (k_priv.to_string())\n",
    "\n",
    "    # serialisation\n",
    "    if K_priv.pubkey.point.y() & 1:\n",
    "        data_pub = b'\\3' + int_to_string(K_priv.pubkey.point.x())\n",
    "    else:\n",
    "        data_pub = b'\\2' + int_to_string(K_priv.pubkey.point.x())\n",
    "\n",
    "    clé_privée = xprv + depth + fingerp + child + Master_chain_code + data_priv\n",
    "    clé_publique = xpub + depth + fingerp + child + Master_chain_code + data_pub\n",
    "\n",
    "    # Hasher les clés\n",
    "    hashed_xprv = hashlib.sha256(clé_privée).digest()\n",
    "    hashed_xprv = hashlib.sha256(hashed_xprv).digest()\n",
    "    hashed_xpub = hashlib.sha256(clé_publique).digest()\n",
    "    hashed_xpub = hashlib.sha256(hashed_xpub).digest()\n",
    "\n",
    "\n",
    "    # les clés\n",
    "    clé_privée += hashed_xprv[:4]\n",
    "    clé_publique += hashed_xpub[:4]\n",
    "    return Master_private_key,Master_chain_code,data_pub,clé_privée,clé_publique"
   ]
  },
  {
   "cell_type": "code",
   "execution_count": 34,
   "metadata": {},
   "outputs": [
    {
     "name": "stdout",
     "output_type": "stream",
     "text": [
      "\n",
      "\n",
      "-------------Generer les informations Parent------------------------\n",
      "\n",
      "La Master Private KEY :  C7p64v4yGDSKQfeG2YnrKF6YsmjCNjzmFWv3cxt4orbX\n",
      "\n",
      "La Master Chain Code :  3Cjwbeo7jTKzbus1ECEYje2TJEoYkGK8XEDftVr8E3qS\n",
      "\n",
      "La Master Public KEY :  dCYW8Y2VprhKW8WCV69feFd1c9E2rsPWYfkDu1H1J7ht\n",
      "\n",
      "Parent Private KEY :  xprv9s21ZrQH143K2PFfLcrTcEhuhc9qipBLkNfsynTyqmHA84KPSAqgrSuNAXeEn5q4iHzyye5VEzrJtASD9XD9WMmTyEc3vpkDzefBNTRimpq\n",
      "\n",
      "Parent Public KEY :  xpub661MyMwAqRbcEsL8SePTyNeeFdzL8GuC7bbUnAsbQ6p8zreXyi9wQFDr1mce7geS2Un16wLigeHuW6eZzWEv7v72NcyWMyFETdV1Q8G3MtH\n"
     ]
    }
   ],
   "source": [
    "##params\n",
    "depth=1\n",
    "fingerp=1111\n",
    "index=0\n",
    "Master_private_key,Master_chain_code,data_pub,clé_privée,clé_publique=diffusion(HMAC512,depth,fingerp,index)\n",
    "#Convertion\n",
    "# les clés à BIP32 Derivation Path : m/\n",
    "print('\\n\\n-------------Generer les informations Parent------------------------')\n",
    "print(\"\\nLa Master Private KEY : \",base58.b58encode(Master_private_key).decode())\n",
    "print(\"\\nLa Master Chain Code : \",base58.b58encode(Master_chain_code).decode())\n",
    "print(\"\\nLa Master Public KEY : \",base58.b58encode(data_pub).decode())\n",
    "print(\"\\nParent Private KEY : \",base58.b58encode(clé_privée).decode())\n",
    "print(\"\\nParent Public KEY : \",base58.b58encode(clé_publique).decode())"
   ]
  },
  {
   "cell_type": "raw",
   "metadata": {},
   "source": [
    "#Générer un clé enfant"
   ]
  },
  {
   "cell_type": "code",
   "execution_count": 35,
   "metadata": {},
   "outputs": [],
   "source": [
    "# Valeur\n",
    "index=0\n",
    "depth=1\n",
    "fingerp=1111\n",
    "def génerer_child(data_pub,Parent_chain_code,index,depth,fingerp):\n",
    "    # Hasher Parent Public Key + Parent Chain Code + index Number\n",
    "    seed_child = data_pub+Parent_chain_code+str(index).encode()\n",
    "    HMAC512_Child = hmac.new(b\"Bitcoin seed\",seed_child, hashlib.sha512).digest()\n",
    "    Master_private_key,Master_chain_code,data_pub,clé_privée,clé_publique=diffusion(HMAC512_Child,depth,fingerp,index)\n",
    "    return Master_private_key,Master_chain_code,data_pub,clé_privée,clé_publique"
   ]
  },
  {
   "cell_type": "code",
   "execution_count": 36,
   "metadata": {},
   "outputs": [
    {
     "name": "stdout",
     "output_type": "stream",
     "text": [
      "\n",
      "\n",
      " ------------------Generation d'une clé enfant----------------\n",
      "\n",
      "La Child Private KEY 256 bits :  7dFEXygWyVzVyBxEmHmZHeo7t3RnAwY7EoAKYS391Epv\n",
      "\n",
      "La Child Chain Code 256 bits :  AbT2DFDf35i52Ar3SaoRAoWDTgX4meEn1oFDfDU79dLf\n",
      "\n",
      "La Child Public KEY 256 bits :  vawsgZT6K6vVDZW4EvxeWQFM2mZTUCTFGVxYj8rzKN8c\n",
      "\n",
      "Child Private KEY :  xprv9s21ZrQH143K3UfufmH13HtDvAgVVxg7yiCwxyHGajJYEkvHtE7gWiYfsLjnBMRajzsN9x8QxyRUxKzE4EWttUur2yxvtyXi6wteRyQ1GWi\n",
      "\n",
      "Child Public KEY :  xpub661MyMwAqRbcFxkNmnp1QRpxUCWyuRPyLw8YmMgt94qX7ZFSRmRw4Ws9idBMCt8jxubcWN4mLUUPWg4xb5fUxZxg9koPJecst2f1yQo6yaX\n"
     ]
    }
   ],
   "source": [
    "Child_private_key,Child_chain_code,Child_data_pub,Child_clé_privée,Child_clé_publique=génerer_child(data_pub,Master_chain_code,index,depth,fingerp)\n",
    "#Convertion\n",
    "print('\\n\\n ------------------Generation d\\'une clé enfant----------------')\n",
    "print(\"\\nLa Child Private KEY 256 bits : \",base58.b58encode(Child_private_key).decode())\n",
    "print(\"\\nLa Child Chain Code 256 bits : \",base58.b58encode(Child_chain_code).decode())\n",
    "print(\"\\nLa Child Public KEY 256 bits : \",base58.b58encode(Child_data_pub).decode())\n",
    "print(\"\\nChild Private KEY : \",base58.b58encode(Child_clé_privée).decode())\n",
    "print(\"\\nChild Public KEY : \",base58.b58encode(Child_clé_publique).decode())"
   ]
  },
  {
   "cell_type": "raw",
   "metadata": {},
   "source": [
    "#Générer une clé enfant à l’index N"
   ]
  },
  {
   "cell_type": "code",
   "execution_count": 37,
   "metadata": {},
   "outputs": [
    {
     "name": "stdout",
     "output_type": "stream",
     "text": [
      "Générer une clé enfant à l’index N : 2\n",
      "\n",
      "\n",
      " ------------------Generation d'une clé enfant à l'index  2 ----------------\n",
      "\n",
      "La Child Private KEY 256 bits :  2K5KUKBWTrBTizkP7NRypCp7UqKsAyR7HG4GUNBJUVTb\n",
      "\n",
      "La Child Chain Code 256 bits :  Aken1uvxJPnd779TmGv8jQQWyhigbD85SkHqMQKpT77R\n",
      "\n",
      "La Child Public KEY 256 bits :  fShd7wC4QieNwK74NakpV8HLSF68AeHdt3eWUfEWn3jB\n",
      "\n",
      "Child Private KEY :  xprv9s21ZrQH143K8bgpGc3veTFbUbg1jJ6BZJVobWpH2c7PBQJQcZfrpw4cJ26XnLxAJoahD3FTRHqZ6ehiiUwmmvMGjzXuSkTiLNJT16dUE2A\n",
      "\n",
      "Child Public KEY :  xpub661MyMwAqRbcM5mHNdaw1bCL2dWW8kp2vXRQPuDtaweN4CdZA6z7NjP69HRnSWp4CLvZhT9m5cQmXHAWQpDjhRhEAHCWDMU9kfFs2rdVs8E\n"
     ]
    }
   ],
   "source": [
    "index_N=int(input(\"Générer une clé enfant à l’index N : \"))\n",
    "Child_private_key,Child_chain_code,Child_data_pub,Child_clé_privée,Child_clé_publique=génerer_child(data_pub,Master_chain_code,index_N,depth,fingerp)\n",
    "#Convertion\n",
    "print('\\n\\n ------------------Generation d\\'une clé enfant à l\\'index ',index_N,'----------------')\n",
    "print(\"\\nLa Child Private KEY 256 bits : \",base58.b58encode(Child_private_key).decode())\n",
    "print(\"\\nLa Child Chain Code 256 bits : \",base58.b58encode(Child_chain_code).decode())\n",
    "print(\"\\nLa Child Public KEY 256 bits : \",base58.b58encode(Child_data_pub).decode())\n",
    "print(\"\\nChild Private KEY : \",base58.b58encode(Child_clé_privée).decode())\n",
    "print(\"\\nChild Public KEY : \",base58.b58encode(Child_clé_publique).decode())"
   ]
  },
  {
   "cell_type": "code",
   "execution_count": 38,
   "metadata": {},
   "outputs": [],
   "source": [
    "#Générer une clé enfant\n",
    "#à l’index N au\n",
    "#niveau de dérivation M"
   ]
  },
  {
   "cell_type": "code",
   "execution_count": 39,
   "metadata": {},
   "outputs": [
    {
     "name": "stdout",
     "output_type": "stream",
     "text": [
      "Générer une clé enfant à l’index N : 3\n",
      " Générer une dérivation de niveau M : 4\n",
      "\n",
      "\n",
      " ------------------Generation d'une clé enfant à l'index  3  et à la dérivation  4 ----------------\n",
      "\n",
      "La Child Private KEY 256 bits :  6FkwurUGb8UDuH53V1NooWDNvQSurMPYFssakyJR6Tur\n",
      "\n",
      "La Child Chain Code 256 bits :  D1RirwJG5LWjCS76itVBj24n5ZofVLobCiPe1wx87mA\n",
      "\n",
      "La Child Public KEY 256 bits :  ekWzgomU4VFHQx1DVAV5NtYFqoDfGUt9V7fJxvJjhSM3\n",
      "\n",
      "Child Private KEY :  xprv9xfR9CxLdy4Jj3W1kutDutFFr5iQYBBFiQXzrLMd6P9TEoYXXCTHJ1yJGPKVFgwZgNVRRLSujxsr3aQPd4rtZRduA37DsdgXqDRV1TrvRDS\n",
      "\n",
      "Child Public KEY :  xpub6BemYiVEULcbwXaUrwREH2BzQ7Ytwdu75dTbeimEeigS7bsg4jmXqpHn7YJB1r6dRYVhxVD8JaRttBVZBoPRgmoU9EiN79qCRyprm2vWsX4\n"
     ]
    }
   ],
   "source": [
    "index_N=int(input(\"Générer une clé enfant à l’index N : \"))\n",
    "derivation=int(input(' Générer une dérivation de niveau M : '))\n",
    "Child_private_key,Child_chain_code,Child_data_pub,Child_clé_privée,Child_clé_publique=génerer_child(data_pub,Master_chain_code,index_N,derivation,fingerp)\n",
    "#Convertion\n",
    "print('\\n\\n ------------------Generation d\\'une clé enfant à l\\'index ',index_N,' et à la dérivation ',derivation,'----------------')\n",
    "print(\"\\nLa Child Private KEY 256 bits : \",base58.b58encode(Child_private_key).decode())\n",
    "print(\"\\nLa Child Chain Code 256 bits : \",base58.b58encode(Child_chain_code).decode())\n",
    "print(\"\\nLa Child Public KEY 256 bits : \",base58.b58encode(Child_data_pub).decode())\n",
    "print(\"\\nChild Private KEY : \",base58.b58encode(Child_clé_privée).decode())\n",
    "print(\"\\nChild Public KEY : \",base58.b58encode(Child_clé_publique).decode())"
   ]
  },
  {
   "cell_type": "code",
   "execution_count": null,
   "metadata": {},
   "outputs": [],
   "source": []
  },
  {
   "cell_type": "code",
   "execution_count": null,
   "metadata": {},
   "outputs": [],
   "source": []
  }
 ],
 "metadata": {
  "kernelspec": {
   "display_name": "Python 3",
   "language": "python",
   "name": "python3"
  },
  "language_info": {
   "codemirror_mode": {
    "name": "ipython",
    "version": 3
   },
   "file_extension": ".py",
   "mimetype": "text/x-python",
   "name": "python",
   "nbconvert_exporter": "python",
   "pygments_lexer": "ipython3",
   "version": "3.7.9"
  }
 },
 "nbformat": 4,
 "nbformat_minor": 4
}
